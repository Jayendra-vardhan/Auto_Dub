{
 "cells": [
  {
   "cell_type": "code",
   "execution_count": 10,
   "metadata": {},
   "outputs": [],
   "source": [
    "from http.client import ResponseNotReady\n",
    "from google.cloud import speech_v1 as speech\n",
    "import os\n",
    "import json\n",
    "from google.protobuf.json_format import MessageToJson\n",
    "\n",
    "os.environ['GOOGLE_APPLICATION_CREDENTIALS'] = r\"D:\\UPES\\Project\\Project Auto_Dub\\Local_to_GCP\\upheld-beach-360516-95be0c166639.json\"\n"
   ]
  },
  {
   "cell_type": "code",
   "execution_count": 11,
   "metadata": {},
   "outputs": [],
   "source": [
    "def speech_to_text(config, audio):\n",
    "    client = speech.SpeechClient()\n",
    "    response = client.recognize(config=config, audio=audio)\n",
    "    # print(response)\n",
    "    return response"
   ]
  },
  {
   "cell_type": "code",
   "execution_count": 12,
   "metadata": {},
   "outputs": [],
   "source": [
    "def print_sentences(response):\n",
    "    for result in response.results:\n",
    "        best_alternative = result.alternatives[0]\n",
    "        transcript = best_alternative.transcript\n",
    "        confidence = best_alternative.confidence\n",
    "        print(\"-\" * 80)\n",
    "        print(f\"Transcript: {transcript}\")\n",
    "        print(f\"Confidence: {confidence:.0%}\")\n",
    "        print_word_offsets(best_alternative)"
   ]
  },
  {
   "cell_type": "code",
   "execution_count": 13,
   "metadata": {},
   "outputs": [],
   "source": [
    "def print_word_offsets(alternative):\n",
    "    for word in alternative.words:\n",
    "        confidence = word.confidence\n",
    "        start_s = word.start_time.total_seconds()\n",
    "        end_s = word.end_time.total_seconds()\n",
    "        word = word.word\n",
    "        print(f\"{start_s:>7.3f} | {end_s:>7.3f} | {word} |{confidence:.0%}\")\n",
    "        with open('transcribe.txt', 'a') as the_file:\n",
    "            the_file.write(f\"{start_s:>7.3f} | {end_s:>7.3f} | {word} |{confidence:.0%}\\n\")"
   ]
  },
  {
   "cell_type": "code",
   "execution_count": 14,
   "metadata": {},
   "outputs": [],
   "source": [
    "config = dict(\n",
    "    language_code=\"en-US\",\n",
    "    enable_automatic_punctuation=True,\n",
    "    enable_word_time_offsets=True,\n",
    "    audio_channel_count = 2,\n",
    "    enable_word_confidence=True)\n",
    "\n",
    "audio = dict(uri=\"gs://flac_file111/how-to-speak-so-that-people-want-to-listen-julian-treasure_RRYwKciD.flac\")"
   ]
  },
  {
   "cell_type": "code",
   "execution_count": 15,
   "metadata": {},
   "outputs": [],
   "source": [
    "response = speech_to_text(config, audio)\n",
    "#print(response)\n"
   ]
  },
  {
   "cell_type": "code",
   "execution_count": 16,
   "metadata": {},
   "outputs": [
    {
     "name": "stdout",
     "output_type": "stream",
     "text": [
      "<class 'google.cloud.speech_v1.types.cloud_speech.RecognizeResponse'>\n"
     ]
    }
   ],
   "source": [
    "print(type(response))"
   ]
  },
  {
   "cell_type": "code",
   "execution_count": 17,
   "metadata": {},
   "outputs": [
    {
     "name": "stdout",
     "output_type": "stream",
     "text": [
      "[[datetime.timedelta(seconds=18, microseconds=200000), datetime.timedelta(seconds=18, microseconds=700000), \"It's\", 0.9876290559768677], [datetime.timedelta(seconds=18, microseconds=700000), datetime.timedelta(seconds=18, microseconds=700000), 'the', 0.9876290559768677], [datetime.timedelta(seconds=18, microseconds=700000), datetime.timedelta(seconds=18, microseconds=900000), 'most', 0.9876290559768677], [datetime.timedelta(seconds=18, microseconds=900000), datetime.timedelta(seconds=19, microseconds=300000), 'powerful', 0.9876290559768677], [datetime.timedelta(seconds=19, microseconds=300000), datetime.timedelta(seconds=19, microseconds=400000), 'sound', 0.9379932880401611], [datetime.timedelta(seconds=19, microseconds=400000), datetime.timedelta(seconds=19, microseconds=600000), 'in', 0.9354185461997986], [datetime.timedelta(seconds=19, microseconds=600000), datetime.timedelta(seconds=19, microseconds=700000), 'the', 0.955124020576477], [datetime.timedelta(seconds=19, microseconds=700000), datetime.timedelta(seconds=19, microseconds=700000), 'world.', 0.9876290559768677], [datetime.timedelta(seconds=19, microseconds=700000), datetime.timedelta(seconds=20, microseconds=100000), 'Probably,', 1.0], [datetime.timedelta(seconds=20, microseconds=100000), datetime.timedelta(seconds=20, microseconds=500000), \"it's\", 0.9876290559768677], [datetime.timedelta(seconds=20, microseconds=500000), datetime.timedelta(seconds=20, microseconds=600000), 'the', 0.9876290559768677], [datetime.timedelta(seconds=20, microseconds=600000), datetime.timedelta(seconds=20, microseconds=700000), 'only', 0.9876290559768677], [datetime.timedelta(seconds=20, microseconds=700000), datetime.timedelta(seconds=20, microseconds=800000), 'one', 0.9876290559768677], [datetime.timedelta(seconds=20, microseconds=800000), datetime.timedelta(seconds=20, microseconds=900000), 'that', 0.9876290559768677], [datetime.timedelta(seconds=20, microseconds=900000), datetime.timedelta(seconds=21, microseconds=100000), 'can', 0.9876290559768677], [datetime.timedelta(seconds=21, microseconds=100000), datetime.timedelta(seconds=21, microseconds=500000), 'start', 0.9876290559768677], [datetime.timedelta(seconds=21, microseconds=500000), datetime.timedelta(seconds=21, microseconds=500000), 'a', 0.9876290559768677], [datetime.timedelta(seconds=21, microseconds=500000), datetime.timedelta(seconds=21, microseconds=800000), 'war', 0.9876290559768677], [datetime.timedelta(seconds=21, microseconds=800000), datetime.timedelta(seconds=22, microseconds=100000), 'or', 0.9876290559768677], [datetime.timedelta(seconds=22, microseconds=100000), datetime.timedelta(seconds=22, microseconds=400000), 'say.', 0.9876290559768677], [datetime.timedelta(seconds=22, microseconds=400000), datetime.timedelta(seconds=22, microseconds=600000), 'I', 0.9876290559768677], [datetime.timedelta(seconds=22, microseconds=600000), datetime.timedelta(seconds=22, microseconds=900000), 'love', 0.9876290559768677], [datetime.timedelta(seconds=22, microseconds=900000), datetime.timedelta(seconds=23, microseconds=100000), 'you.', 0.9876290559768677], [datetime.timedelta(seconds=23, microseconds=100000), datetime.timedelta(seconds=24), 'And', 0.9876290559768677], [datetime.timedelta(seconds=24), datetime.timedelta(seconds=24, microseconds=200000), 'yet', 0.9876290559768677], [datetime.timedelta(seconds=24, microseconds=200000), datetime.timedelta(seconds=24, microseconds=400000), 'many', 0.9876290559768677], [datetime.timedelta(seconds=24, microseconds=400000), datetime.timedelta(seconds=24, microseconds=700000), 'people', 0.9876290559768677], [datetime.timedelta(seconds=24, microseconds=700000), datetime.timedelta(seconds=24, microseconds=800000), 'have', 0.9876290559768677], [datetime.timedelta(seconds=24, microseconds=800000), datetime.timedelta(seconds=24, microseconds=900000), 'the', 0.9876290559768677], [datetime.timedelta(seconds=24, microseconds=900000), datetime.timedelta(seconds=25, microseconds=200000), 'experience', 0.9876290559768677], [datetime.timedelta(seconds=25, microseconds=200000), datetime.timedelta(seconds=25, microseconds=400000), 'that', 0.9876290559768677], [datetime.timedelta(seconds=25, microseconds=400000), datetime.timedelta(seconds=25, microseconds=600000), 'when', 0.9876290559768677], [datetime.timedelta(seconds=25, microseconds=600000), datetime.timedelta(seconds=25, microseconds=800000), 'they', 0.9876290559768677], [datetime.timedelta(seconds=25, microseconds=800000), datetime.timedelta(seconds=26), 'speak', 0.9876290559768677], [datetime.timedelta(seconds=26), datetime.timedelta(seconds=26, microseconds=600000), 'people,', 0.9876290559768677], [datetime.timedelta(seconds=26, microseconds=600000), datetime.timedelta(seconds=26, microseconds=900000), \"don't\", 0.9876290559768677], [datetime.timedelta(seconds=26, microseconds=900000), datetime.timedelta(seconds=27, microseconds=100000), 'listen', 0.9876290559768677], [datetime.timedelta(seconds=27, microseconds=100000), datetime.timedelta(seconds=27, microseconds=300000), 'to', 0.9876290559768677], [datetime.timedelta(seconds=27, microseconds=300000), datetime.timedelta(seconds=27, microseconds=500000), 'them.', 0.9876290559768677], [datetime.timedelta(seconds=27, microseconds=500000), datetime.timedelta(seconds=28, microseconds=500000), 'Why', 0.9876290559768677], [datetime.timedelta(seconds=28, microseconds=500000), datetime.timedelta(seconds=28, microseconds=700000), 'is', 0.9876290559768677], [datetime.timedelta(seconds=28, microseconds=700000), datetime.timedelta(seconds=29), 'that?', 0.9876290559768677], [datetime.timedelta(seconds=29), datetime.timedelta(seconds=29, microseconds=500000), 'How', 0.9876290559768677], [datetime.timedelta(seconds=29, microseconds=500000), datetime.timedelta(seconds=29, microseconds=600000), 'can', 0.9876290559768677], [datetime.timedelta(seconds=29, microseconds=600000), datetime.timedelta(seconds=29, microseconds=800000), 'we', 0.9876290559768677], [datetime.timedelta(seconds=29, microseconds=800000), datetime.timedelta(seconds=30), 'speak', 0.9876290559768677], [datetime.timedelta(seconds=30), datetime.timedelta(seconds=30, microseconds=100000), 'to', 0.9876290559768677], [datetime.timedelta(seconds=30, microseconds=100000), datetime.timedelta(seconds=31, microseconds=500000), 'make', 0.9876290559768677], [datetime.timedelta(seconds=31, microseconds=500000), datetime.timedelta(seconds=32), 'change', 0.9876290559768677], [datetime.timedelta(seconds=32), datetime.timedelta(seconds=32, microseconds=300000), 'in', 0.9876290559768677], [datetime.timedelta(seconds=32, microseconds=300000), datetime.timedelta(seconds=32, microseconds=500000), 'the', 0.9876290559768677], [datetime.timedelta(seconds=32, microseconds=500000), datetime.timedelta(seconds=32, microseconds=800000), 'world?', 0.9876290559768677], [datetime.timedelta(seconds=32, microseconds=800000), datetime.timedelta(seconds=33, microseconds=600000), 'But', 0.867219865322113], [datetime.timedelta(seconds=33, microseconds=600000), datetime.timedelta(seconds=33, microseconds=700000), 'I', 0.9815686345100403], [datetime.timedelta(seconds=33, microseconds=700000), datetime.timedelta(seconds=33, microseconds=800000), 'like', 0.9876290559768677], [datetime.timedelta(seconds=33, microseconds=800000), datetime.timedelta(seconds=34), 'to', 0.9747776389122009], [datetime.timedelta(seconds=34), datetime.timedelta(seconds=34, microseconds=200000), 'suggest', 0.9876290559768677], [datetime.timedelta(seconds=34, microseconds=200000), datetime.timedelta(seconds=34, microseconds=600000), 'that', 0.9876290559768677], [datetime.timedelta(seconds=34, microseconds=600000), datetime.timedelta(seconds=34, microseconds=700000), 'we', 0.9876290559768677], [datetime.timedelta(seconds=34, microseconds=700000), datetime.timedelta(seconds=36, microseconds=100000), 'need', 0.9876290559768677], [datetime.timedelta(seconds=36, microseconds=100000), datetime.timedelta(seconds=36, microseconds=200000), 'to', 0.9876290559768677], [datetime.timedelta(seconds=36, microseconds=200000), datetime.timedelta(seconds=36, microseconds=300000), 'move', 0.9876290559768677], [datetime.timedelta(seconds=36, microseconds=300000), datetime.timedelta(seconds=36, microseconds=600000), 'away', 0.9876290559768677], [datetime.timedelta(seconds=36, microseconds=600000), datetime.timedelta(seconds=36, microseconds=800000), 'from.', 0.9876290559768677], [datetime.timedelta(seconds=36, microseconds=800000), datetime.timedelta(seconds=37, microseconds=100000), \"I've\", 0.7857084274291992], [datetime.timedelta(seconds=37, microseconds=100000), datetime.timedelta(seconds=37, microseconds=300000), \"I've\", 0.7857084274291992], [datetime.timedelta(seconds=37, microseconds=300000), datetime.timedelta(seconds=38), 'assembled', 0.9876290559768677], [datetime.timedelta(seconds=38), datetime.timedelta(seconds=38, microseconds=300000), 'for', 0.8502652645111084], [datetime.timedelta(seconds=38, microseconds=300000), datetime.timedelta(seconds=38, microseconds=500000), 'your', 0.9876290559768677], [datetime.timedelta(seconds=38, microseconds=500000), datetime.timedelta(seconds=39), 'pleasure,', 0.9876290559768677], [datetime.timedelta(seconds=39), datetime.timedelta(seconds=39, microseconds=400000), 'his', 0.7288493514060974], [datetime.timedelta(seconds=39, microseconds=400000), datetime.timedelta(seconds=39, microseconds=700000), 'seven', 0.9876290559768677], [datetime.timedelta(seconds=39, microseconds=700000), datetime.timedelta(seconds=40, microseconds=100000), 'deadly', 0.9876290559768677], [datetime.timedelta(seconds=40, microseconds=100000), datetime.timedelta(seconds=40, microseconds=500000), 'sins', 0.9876290559768677], [datetime.timedelta(seconds=40, microseconds=500000), datetime.timedelta(seconds=40, microseconds=500000), 'of', 0.9876290559768677], [datetime.timedelta(seconds=40, microseconds=500000), datetime.timedelta(seconds=41), 'speaking.', 0.9876290559768677], [datetime.timedelta(seconds=41), datetime.timedelta(seconds=41, microseconds=600000), \"I'm\", 0.9876290559768677], [datetime.timedelta(seconds=41, microseconds=600000), datetime.timedelta(seconds=41, microseconds=700000), 'not', 0.9876290559768677], [datetime.timedelta(seconds=41, microseconds=700000), datetime.timedelta(seconds=42), 'pretending,', 0.9876290559768677], [datetime.timedelta(seconds=42), datetime.timedelta(seconds=42, microseconds=200000), 'this', 0.9876290559768677], [datetime.timedelta(seconds=42, microseconds=200000), datetime.timedelta(seconds=42, microseconds=400000), 'is', 0.9876290559768677], [datetime.timedelta(seconds=42, microseconds=400000), datetime.timedelta(seconds=42, microseconds=500000), 'an', 0.9876290559768677], [datetime.timedelta(seconds=42, microseconds=500000), datetime.timedelta(seconds=43, microseconds=100000), 'exhaustive', 0.9876290559768677], [datetime.timedelta(seconds=43, microseconds=100000), datetime.timedelta(seconds=43, microseconds=100000), 'list', 0.9876290559768677], [datetime.timedelta(seconds=43, microseconds=100000), datetime.timedelta(seconds=44), 'but', 0.9876290559768677], [datetime.timedelta(seconds=44), datetime.timedelta(seconds=44, microseconds=600000), 'these', 0.9794338345527649], [datetime.timedelta(seconds=44, microseconds=600000), datetime.timedelta(seconds=44, microseconds=900000), 'seven', 0.8767464756965637], [datetime.timedelta(seconds=44, microseconds=900000), datetime.timedelta(seconds=45), 'I', 0.9876290559768677], [datetime.timedelta(seconds=45), datetime.timedelta(seconds=45, microseconds=300000), 'think', 0.9243088960647583], [datetime.timedelta(seconds=45, microseconds=300000), datetime.timedelta(seconds=45, microseconds=400000), \"I'm\", 0.9607333540916443], [datetime.timedelta(seconds=45, microseconds=400000), datetime.timedelta(seconds=45, microseconds=600000), 'pretty', 0.9876290559768677], [datetime.timedelta(seconds=45, microseconds=600000), datetime.timedelta(seconds=46), 'large.', 0.9876290559768677], [datetime.timedelta(seconds=46), datetime.timedelta(seconds=47, microseconds=200000), \"Haven't\", 0.7241120934486389], [datetime.timedelta(seconds=47, microseconds=200000), datetime.timedelta(seconds=47, microseconds=300000), 'said', 0.7241117358207703], [datetime.timedelta(seconds=47, microseconds=300000), datetime.timedelta(seconds=47, microseconds=500000), 'we', 0.9876290559768677], [datetime.timedelta(seconds=47, microseconds=500000), datetime.timedelta(seconds=47, microseconds=800000), 'can', 0.9876290559768677], [datetime.timedelta(seconds=47, microseconds=800000), datetime.timedelta(seconds=48), 'all', 0.9876290559768677], [datetime.timedelta(seconds=48), datetime.timedelta(seconds=48, microseconds=100000), 'fit', 0.9876290559768677], [datetime.timedelta(seconds=48, microseconds=100000), datetime.timedelta(seconds=48, microseconds=400000), 'into', 0.9876290559768677], [datetime.timedelta(seconds=48, microseconds=400000), datetime.timedelta(seconds=49, microseconds=500000), 'first.', 0.9876290559768677], [datetime.timedelta(seconds=49, microseconds=500000), datetime.timedelta(seconds=50, microseconds=700000), 'Got', 0.9876290559768677], [datetime.timedelta(seconds=50, microseconds=700000), datetime.timedelta(seconds=50, microseconds=900000), 'it,', 0.9876290559768677], [datetime.timedelta(seconds=50, microseconds=900000), datetime.timedelta(seconds=52, microseconds=800000), 'if', 0.9876290559768677], [datetime.timedelta(seconds=52, microseconds=800000), datetime.timedelta(seconds=53), 'somebody', 0.9876290559768677], [datetime.timedelta(seconds=53), datetime.timedelta(seconds=53, microseconds=200000), \"who's\", 0.9876290559768677], [datetime.timedelta(seconds=53, microseconds=200000), datetime.timedelta(seconds=53, microseconds=400000), 'not', 0.9876290559768677], [datetime.timedelta(seconds=53, microseconds=400000), datetime.timedelta(seconds=54, microseconds=800000), 'a', 0.38609933853149414], [datetime.timedelta(seconds=54, microseconds=800000), datetime.timedelta(seconds=55, microseconds=100000), 'nice', 0.9876290559768677], [datetime.timedelta(seconds=55, microseconds=100000), datetime.timedelta(seconds=55, microseconds=400000), 'habit', 0.9255074858665466], [datetime.timedelta(seconds=55, microseconds=400000), datetime.timedelta(seconds=55, microseconds=600000), 'and', 0.9448609352111816], [datetime.timedelta(seconds=55, microseconds=600000), datetime.timedelta(seconds=55, microseconds=700000), 'we', 0.9876290559768677], [datetime.timedelta(seconds=55, microseconds=700000), datetime.timedelta(seconds=55, microseconds=900000), 'know', 0.9876290559768677], [datetime.timedelta(seconds=55, microseconds=900000), datetime.timedelta(seconds=56, microseconds=300000), 'perfectly', 0.9876290559768677], [datetime.timedelta(seconds=56, microseconds=300000), datetime.timedelta(seconds=56, microseconds=500000), 'well', 0.9876290559768677], [datetime.timedelta(seconds=56, microseconds=500000), datetime.timedelta(seconds=56, microseconds=500000), 'the', 0.9876290559768677], [datetime.timedelta(seconds=56, microseconds=500000), datetime.timedelta(seconds=56, microseconds=900000), 'person', 0.9876290559768677], [datetime.timedelta(seconds=56, microseconds=900000), datetime.timedelta(seconds=57), 'goes', 0.9876290559768677], [datetime.timedelta(seconds=57), datetime.timedelta(seconds=57, microseconds=100000), 'to', 0.9876290559768677], [datetime.timedelta(seconds=57, microseconds=100000), datetime.timedelta(seconds=57, microseconds=300000), 'paying', 0.9876290559768677], [datetime.timedelta(seconds=57, microseconds=300000), datetime.timedelta(seconds=57, microseconds=900000), '5', 0.9830637574195862], [datetime.timedelta(seconds=57, microseconds=900000), datetime.timedelta(seconds=58, microseconds=100000), 'minutes', 0.9876290559768677], [datetime.timedelta(seconds=58, microseconds=100000), datetime.timedelta(seconds=58, microseconds=500000), 'later', 0.8859721422195435], [datetime.timedelta(seconds=58, microseconds=500000), datetime.timedelta(seconds=59), 'will', 0.8859721422195435], [datetime.timedelta(seconds=59), datetime.timedelta(seconds=59, microseconds=100000), 'be', 0.9876290559768677], [datetime.timedelta(seconds=59, microseconds=100000), datetime.timedelta(seconds=59, microseconds=500000), 'gossiping', 0.9484284520149231]]\n"
     ]
    }
   ],
   "source": [
    "for i in response.results:\n",
    "    for word in i.alternatives:\n",
    "        all_words = []\n",
    "        for j in word.words:            \n",
    "            start_time = j.start_time\n",
    "            end_time = j.end_time\n",
    "            word = j.word\n",
    "            confidence = j.confidence\n",
    "            row_to_add = [start_time, end_time, word, confidence]\n",
    "            all_words.append(row_to_add)\n",
    "            \n",
    "            \n",
    "print(all_words)\n",
    "            "
   ]
  },
  {
   "cell_type": "code",
   "execution_count": 18,
   "metadata": {},
   "outputs": [
    {
     "ename": "TypeError",
     "evalue": "DataFrame.__init__() got an unexpected keyword argument 'header'",
     "output_type": "error",
     "traceback": [
      "\u001b[1;31m---------------------------------------------------------------------------\u001b[0m",
      "\u001b[1;31mTypeError\u001b[0m                                 Traceback (most recent call last)",
      "\u001b[1;32md:\\UPES\\Project\\Project Auto_Dub\\Transcribe\\tr7_csv.ipynb Cell 9\u001b[0m in \u001b[0;36m<cell line: 3>\u001b[1;34m()\u001b[0m\n\u001b[0;32m      <a href='vscode-notebook-cell:/d%3A/UPES/Project/Project%20Auto_Dub/Transcribe/tr7_csv.ipynb#X11sZmlsZQ%3D%3D?line=0'>1</a>\u001b[0m \u001b[39mimport\u001b[39;00m \u001b[39mpandas\u001b[39;00m \u001b[39mas\u001b[39;00m \u001b[39mpd\u001b[39;00m                                          \u001b[39m#csv\u001b[39;00m\n\u001b[0;32m      <a href='vscode-notebook-cell:/d%3A/UPES/Project/Project%20Auto_Dub/Transcribe/tr7_csv.ipynb#X11sZmlsZQ%3D%3D?line=1'>2</a>\u001b[0m headers \u001b[39m=\u001b[39m [\u001b[39m'\u001b[39m\u001b[39mStart Time\u001b[39m\u001b[39m'\u001b[39m,\u001b[39m'\u001b[39m\u001b[39mEnd Time\u001b[39m\u001b[39m'\u001b[39m, \u001b[39m\"\u001b[39m\u001b[39mWord\u001b[39m\u001b[39m\"\u001b[39m, \u001b[39m'\u001b[39m\u001b[39mConfidence\u001b[39m\u001b[39m'\u001b[39m]\n\u001b[1;32m----> <a href='vscode-notebook-cell:/d%3A/UPES/Project/Project%20Auto_Dub/Transcribe/tr7_csv.ipynb#X11sZmlsZQ%3D%3D?line=2'>3</a>\u001b[0m words_df \u001b[39m=\u001b[39m pd\u001b[39m.\u001b[39;49mDataFrame(data \u001b[39m=\u001b[39;49m all_words,header \u001b[39m=\u001b[39;49m headers)\n",
      "\u001b[1;31mTypeError\u001b[0m: DataFrame.__init__() got an unexpected keyword argument 'header'"
     ]
    }
   ],
   "source": [
    "import pandas as pd                                          #csv\n",
    "headers = ['Start Time','End Time', \"Word\", 'Confidence']\n",
    "words_df = pd.DataFrame(data = all_words,header = headers)"
   ]
  },
  {
   "cell_type": "code",
   "execution_count": 20,
   "metadata": {},
   "outputs": [
    {
     "name": "stdout",
     "output_type": "stream",
     "text": [
      "Done\n"
     ]
    }
   ],
   "source": [
    "with open(r'all_words.csv', 'w') as fp:\n",
    "    \n",
    "    str_to_write='start_time, end_time, word, confidence'\n",
    "    fp.write(str_to_write + '\\n')\n",
    "    \n",
    "    for row in all_words:\n",
    "        row_str = []\n",
    "        for item in row:\n",
    "            str_item = str(item)\n",
    "            row_str.append(str_item)\n",
    "            \n",
    "        str_to_write = ','.join(row_str)\n",
    "        # write each item on a new line\n",
    "        fp.write(str_to_write + '\\n')\n",
    "    print('Done')"
   ]
  },
  {
   "cell_type": "code",
   "execution_count": null,
   "metadata": {},
   "outputs": [],
   "source": []
  }
 ],
 "metadata": {
  "kernelspec": {
   "display_name": "Python 3.10.6 64-bit (microsoft store)",
   "language": "python",
   "name": "python3"
  },
  "language_info": {
   "codemirror_mode": {
    "name": "ipython",
    "version": 3
   },
   "file_extension": ".py",
   "mimetype": "text/x-python",
   "name": "python",
   "nbconvert_exporter": "python",
   "pygments_lexer": "ipython3",
   "version": "3.10.6"
  },
  "orig_nbformat": 4,
  "vscode": {
   "interpreter": {
    "hash": "5c1f741a4f83aa020b4b2a4d7353a073a4e5e4a855a3258a20da40294ddbf005"
   }
  }
 },
 "nbformat": 4,
 "nbformat_minor": 2
}
