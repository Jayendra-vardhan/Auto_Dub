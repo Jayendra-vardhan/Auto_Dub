{
 "cells": [
  {
   "cell_type": "code",
   "execution_count": 2,
   "metadata": {},
   "outputs": [],
   "source": [
    "from http.client import ResponseNotReady\n",
    "from google.cloud import speech_v1 as speech\n",
    "import os\n",
    "import json\n",
    "from google.protobuf.json_format import MessageToJson\n",
    "\n",
    "os.environ['GOOGLE_APPLICATION_CREDENTIALS'] = r\"D:\\UPES\\Project\\Project Auto_Dub\\Local_to_GCP\\upheld-beach-360516-95be0c166639.json\"\n"
   ]
  },
  {
   "cell_type": "code",
   "execution_count": 3,
   "metadata": {},
   "outputs": [],
   "source": [
    "def speech_to_text(config, audio):\n",
    "    client = speech.SpeechClient()\n",
    "    response = client.recognize(config=config, audio=audio)\n",
    "    # print(response)\n",
    "    return response"
   ]
  },
  {
   "cell_type": "code",
   "execution_count": 4,
   "metadata": {},
   "outputs": [],
   "source": [
    "def print_sentences(response):\n",
    "    for result in response.results:\n",
    "        best_alternative = result.alternatives[0]\n",
    "        transcript = best_alternative.transcript\n",
    "        confidence = best_alternative.confidence\n",
    "        print(\"-\" * 80)\n",
    "        print(f\"Transcript: {transcript}\")\n",
    "        print(f\"Confidence: {confidence:.0%}\")\n",
    "        print_word_offsets(best_alternative)"
   ]
  },
  {
   "cell_type": "code",
   "execution_count": 5,
   "metadata": {},
   "outputs": [],
   "source": [
    "def print_word_offsets(alternative):\n",
    "    for word in alternative.words:\n",
    "        confidence = word.confidence\n",
    "        start_s = word.start_time.total_seconds()\n",
    "        end_s = word.end_time.total_seconds()\n",
    "        word = word.word\n",
    "        print(f\"{start_s:>7.3f} | {end_s:>7.3f} | {word} |{confidence:.0%}\")\n",
    "        with open('transcribe.txt', 'a') as the_file:\n",
    "            the_file.write(f\"{start_s:>7.3f} | {end_s:>7.3f} | {word} |{confidence:.0%}\\n\")"
   ]
  },
  {
   "cell_type": "code",
   "execution_count": 6,
   "metadata": {},
   "outputs": [],
   "source": [
    "config = dict(\n",
    "    language_code=\"en-US\",\n",
    "    enable_automatic_punctuation=True,\n",
    "    enable_word_time_offsets=True,\n",
    "    audio_channel_count = 2,\n",
    "    enable_word_confidence=True)\n",
    "\n",
    "audio = dict(uri=\"gs://flac_file111/how-to-speak-so-that-people-want-to-listen-julian-treasure_RRYwKciD.flac\")"
   ]
  },
  {
   "cell_type": "code",
   "execution_count": 41,
   "metadata": {},
   "outputs": [],
   "source": [
    "response = speech_to_text(config, audio)\n",
    "print(response)\n"
   ]
  },
  {
   "cell_type": "code",
   "execution_count": 8,
   "metadata": {},
   "outputs": [
    {
     "name": "stdout",
     "output_type": "stream",
     "text": [
      "<class 'google.cloud.speech_v1.types.cloud_speech.RecognizeResponse'>\n"
     ]
    }
   ],
   "source": [
    "print(type(response))"
   ]
  },
  {
   "cell_type": "code",
   "execution_count": 9,
   "metadata": {},
   "outputs": [],
   "source": [
    "x = str(response)\n",
    "text_file = open(\"response.json\", \"w\")\n",
    "text_file.write(x)\n",
    "text_file.close()"
   ]
  },
  {
   "cell_type": "code",
   "execution_count": 18,
   "metadata": {},
   "outputs": [],
   "source": [
    "# for i in response.results:\n",
    "#     for word in i.alternatives:\n",
    "#         all_words = []\n",
    "#         for j in word.words:            \n",
    "#             start_time = j.start_time\n",
    "#             end_time = j.end_time\n",
    "#             word = j.word\n",
    "#             confidence = j.confidence\n",
    "#             row_to_add = [start_time, end_time, word, confidence]\n",
    "#             all_words.append(row_to_add)\n",
    "            \n",
    "            \n",
    "# print(all_words)\n",
    "            "
   ]
  },
  {
   "cell_type": "code",
   "execution_count": 19,
   "metadata": {},
   "outputs": [],
   "source": [
    "# import pandas as pd                                          #csv\n",
    "# headers = ['Start Time','End Time', \"Word\", 'Confidence']\n",
    "# words_df = pd.DataFrame(data = all_words,header = headers)"
   ]
  },
  {
   "cell_type": "code",
   "execution_count": 20,
   "metadata": {},
   "outputs": [],
   "source": [
    "# with open(r'all_words.csv', 'w') as fp:\n",
    "    \n",
    "#     str_to_write='start_time, end_time, word, confidence'\n",
    "#     fp.write(str_to_write + '\\n')\n",
    "    \n",
    "#     for row in all_words:\n",
    "#         row_str = []\n",
    "#         for item in row:\n",
    "#             str_item = str(item)\n",
    "#             row_str.append(str_item)\n",
    "            \n",
    "#         str_to_write = ','.join(row_str)\n",
    "#         # write each item on a new line\n",
    "#         fp.write(str_to_write + '\\n')\n",
    "#     print('Done')"
   ]
  },
  {
   "cell_type": "code",
   "execution_count": 38,
   "metadata": {},
   "outputs": [],
   "source": [
    "# for i in response.results:\n",
    "#     for word in i.alternatives:\n",
    "#         all_words = []\n",
    "#         for j in word.words:            \n",
    "#             word = j.word\n",
    "#             all_words.append(word)\n",
    "\n",
    "# print(all_words)      \n"
   ]
  },
  {
   "cell_type": "code",
   "execution_count": 51,
   "metadata": {},
   "outputs": [
    {
     "name": "stdout",
     "output_type": "stream",
     "text": [
      "The human voice. It's the instrument. We will play. It's the most powerful sound in the world. Probably, it's the only one that can start a war or say. I love you. And yet many people have the experience that when they speak people, don't listen to them. Why is that? How can we speak to make change in the world? But I like to suggest that we need to move away from. I've I've assembled for your pleasure, his seven deadly sins of speaking. I'm not pretending, this is an exhaustive list but these seven I think I'm pretty large. Haven't said we can all fit into first. Got it, if somebody who's not a nice habit and we know perfectly well the person goes to paying 5 minutes later will be gossiping\n",
      "The human voice. It's the instrument. We will play. It's the most powerful sound in the world. Probably, it's the only one that can start a war or say. I love you. And yet many people have the experience that when they speak people, don't listen to them. Why is that? How can we speak to make change in the world? But I like to suggest that we need to move away from. I've I've assembled for your pleasure, his seven deadly sins of speaking. I'm not pretending, this is an exhaustive list but these \n"
     ]
    }
   ],
   "source": [
    "text = \"\"\n",
    "\n",
    "for i in response.results:\n",
    "    for j in i.alternatives:\n",
    "        text+=j.transcript \n",
    "\n",
    "print(text)\n",
    "text_500 = text[0:499]\n",
    "print(text_500)\n",
    "# print(type(transcript))\n",
    "        "
   ]
  },
  {
   "cell_type": "code",
   "execution_count": 52,
   "metadata": {},
   "outputs": [
    {
     "ename": "RuntimeError",
     "evalue": "generator raised StopIteration",
     "output_type": "error",
     "traceback": [
      "\u001b[1;31m---------------------------------------------------------------------------\u001b[0m",
      "\u001b[1;31mStopIteration\u001b[0m                             Traceback (most recent call last)",
      "File \u001b[1;32m~\\AppData\\Local\\Packages\\PythonSoftwareFoundation.Python.3.10_qbz5n2kfra8p0\\LocalCache\\local-packages\\Python310\\site-packages\\translate\\translate.py:45\u001b[0m, in \u001b[0;36m<genexpr>\u001b[1;34m(.0)\u001b[0m\n\u001b[0;32m     44\u001b[0m text_list \u001b[39m=\u001b[39m wrap(text, TRANSLATION_API_MAX_LENGHT, replace_whitespace\u001b[39m=\u001b[39m\u001b[39mFalse\u001b[39;00m)\n\u001b[1;32m---> 45\u001b[0m \u001b[39mreturn\u001b[39;00m \u001b[39m'\u001b[39m\u001b[39m \u001b[39m\u001b[39m'\u001b[39m\u001b[39m.\u001b[39mjoin(\u001b[39mself\u001b[39;49m\u001b[39m.\u001b[39;49mprovider\u001b[39m.\u001b[39;49mget_translation(text_wraped) \u001b[39mfor\u001b[39;00m text_wraped \u001b[39min\u001b[39;00m text_list)\n",
      "File \u001b[1;32m~\\AppData\\Local\\Packages\\PythonSoftwareFoundation.Python.3.10_qbz5n2kfra8p0\\LocalCache\\local-packages\\Python310\\site-packages\\translate\\providers\\mymemory_translated.py:49\u001b[0m, in \u001b[0;36mMyMemoryProvider.get_translation\u001b[1;34m(self, text)\u001b[0m\n\u001b[0;32m     48\u001b[0m matches \u001b[39m=\u001b[39m data[\u001b[39m'\u001b[39m\u001b[39mmatches\u001b[39m\u001b[39m'\u001b[39m]\n\u001b[1;32m---> 49\u001b[0m next_best_match \u001b[39m=\u001b[39m \u001b[39mnext\u001b[39;49m(match \u001b[39mfor\u001b[39;49;00m match \u001b[39min\u001b[39;49;00m matches)\n\u001b[0;32m     50\u001b[0m \u001b[39mreturn\u001b[39;00m next_best_match[\u001b[39m'\u001b[39m\u001b[39mtranslation\u001b[39m\u001b[39m'\u001b[39m]\n",
      "\u001b[1;31mStopIteration\u001b[0m: ",
      "\nThe above exception was the direct cause of the following exception:\n",
      "\u001b[1;31mRuntimeError\u001b[0m                              Traceback (most recent call last)",
      "\u001b[1;32md:\\UPES\\Project\\Project Auto_Dub\\Transcribe\\tr7_csv.ipynb Cell 14\u001b[0m in \u001b[0;36m<cell line: 3>\u001b[1;34m()\u001b[0m\n\u001b[0;32m      <a href='vscode-notebook-cell:/d%3A/UPES/Project/Project%20Auto_Dub/Transcribe/tr7_csv.ipynb#X20sZmlsZQ%3D%3D?line=0'>1</a>\u001b[0m \u001b[39mfrom\u001b[39;00m \u001b[39mtranslate\u001b[39;00m \u001b[39mimport\u001b[39;00m Translator\n\u001b[0;32m      <a href='vscode-notebook-cell:/d%3A/UPES/Project/Project%20Auto_Dub/Transcribe/tr7_csv.ipynb#X20sZmlsZQ%3D%3D?line=1'>2</a>\u001b[0m translator\u001b[39m=\u001b[39m Translator(from_lang\u001b[39m=\u001b[39m\u001b[39m\"\u001b[39m\u001b[39mEnglish\u001b[39m\u001b[39m\"\u001b[39m,to_lang\u001b[39m=\u001b[39m\u001b[39m\"\u001b[39m\u001b[39mHindi\u001b[39m\u001b[39m\"\u001b[39m)\n\u001b[1;32m----> <a href='vscode-notebook-cell:/d%3A/UPES/Project/Project%20Auto_Dub/Transcribe/tr7_csv.ipynb#X20sZmlsZQ%3D%3D?line=2'>3</a>\u001b[0m translation \u001b[39m=\u001b[39m translator\u001b[39m.\u001b[39;49mtranslate(text_500)\n\u001b[0;32m      <a href='vscode-notebook-cell:/d%3A/UPES/Project/Project%20Auto_Dub/Transcribe/tr7_csv.ipynb#X20sZmlsZQ%3D%3D?line=3'>4</a>\u001b[0m \u001b[39mprint\u001b[39m(translation)\n",
      "File \u001b[1;32m~\\AppData\\Local\\Packages\\PythonSoftwareFoundation.Python.3.10_qbz5n2kfra8p0\\LocalCache\\local-packages\\Python310\\site-packages\\translate\\translate.py:45\u001b[0m, in \u001b[0;36mTranslator.translate\u001b[1;34m(self, text)\u001b[0m\n\u001b[0;32m     42\u001b[0m     \u001b[39mreturn\u001b[39;00m text\n\u001b[0;32m     44\u001b[0m text_list \u001b[39m=\u001b[39m wrap(text, TRANSLATION_API_MAX_LENGHT, replace_whitespace\u001b[39m=\u001b[39m\u001b[39mFalse\u001b[39;00m)\n\u001b[1;32m---> 45\u001b[0m \u001b[39mreturn\u001b[39;00m \u001b[39m'\u001b[39;49m\u001b[39m \u001b[39;49m\u001b[39m'\u001b[39;49m\u001b[39m.\u001b[39;49mjoin(\u001b[39mself\u001b[39;49m\u001b[39m.\u001b[39;49mprovider\u001b[39m.\u001b[39;49mget_translation(text_wraped) \u001b[39mfor\u001b[39;49;00m text_wraped \u001b[39min\u001b[39;49;00m text_list)\n",
      "\u001b[1;31mRuntimeError\u001b[0m: generator raised StopIteration"
     ]
    }
   ],
   "source": [
    "from translate import Translator\n",
    "translator= Translator(from_lang=\"English\",to_lang=\"Hindi\")\n",
    "translation = translator.translate(text_500)\n",
    "print(translation)"
   ]
  },
  {
   "cell_type": "code",
   "execution_count": null,
   "metadata": {},
   "outputs": [],
   "source": []
  }
 ],
 "metadata": {
  "kernelspec": {
   "display_name": "Python 3.10.6 64-bit (microsoft store)",
   "language": "python",
   "name": "python3"
  },
  "language_info": {
   "codemirror_mode": {
    "name": "ipython",
    "version": 3
   },
   "file_extension": ".py",
   "mimetype": "text/x-python",
   "name": "python",
   "nbconvert_exporter": "python",
   "pygments_lexer": "ipython3",
   "version": "3.10.7"
  },
  "orig_nbformat": 4,
  "vscode": {
   "interpreter": {
    "hash": "5c1f741a4f83aa020b4b2a4d7353a073a4e5e4a855a3258a20da40294ddbf005"
   }
  }
 },
 "nbformat": 4,
 "nbformat_minor": 2
}
